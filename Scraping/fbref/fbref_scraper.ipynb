{
  "nbformat": 4,
  "nbformat_minor": 0,
  "metadata": {
    "colab": {
      "provenance": []
    },
    "kernelspec": {
      "name": "python3",
      "display_name": "Python 3"
    },
    "language_info": {
      "name": "python"
    }
  },
  "cells": [
    {
      "cell_type": "code",
      "execution_count": null,
      "metadata": {
        "id": "E2_SquKD8W2A"
      },
      "outputs": [],
      "source": [
        "import requests\n",
        "from bs4 import BeautifulSoup"
      ]
    },
    {
      "cell_type": "code",
      "source": [
        "# URL of the FBref table you want to scrape\n",
        "url = \"https://fbref.com/en/comps/9/stats/Premier-League-Stats\""
      ],
      "metadata": {
        "id": "VerlRyyj8cgN"
      },
      "execution_count": null,
      "outputs": []
    },
    {
      "cell_type": "code",
      "source": [
        "# Send a GET request to the URL to retrieve the HTML content\n",
        "response = requests.get(url)"
      ],
      "metadata": {
        "id": "IwBVmLlK8ebM"
      },
      "execution_count": null,
      "outputs": []
    },
    {
      "cell_type": "code",
      "source": [
        "# Parse the HTML content using BeautifulSoup\n",
        "soup = BeautifulSoup(response.text, \"html.parser\")"
      ],
      "metadata": {
        "id": "lu3ytwO88gua"
      },
      "execution_count": null,
      "outputs": []
    },
    {
      "cell_type": "code",
      "source": [
        "# Find the table on the page\n",
        "table = soup.find(\"table\", {\"class\": \"stats_table\"})"
      ],
      "metadata": {
        "id": "TCVjlIfL8iay"
      },
      "execution_count": null,
      "outputs": []
    },
    {
      "cell_type": "code",
      "source": [
        "# Loop through each row of the table\n",
        "for row in table.find_all(\"tr\")[1:]:\n",
        "    # Extract the data for each column in the row\n",
        "    cols = row.find_all(\"td\")\n",
        "    team = cols[0].text\n",
        "    wins = cols[1].text\n",
        "    draws = cols[2].text\n",
        "    losses = cols[3].text\n",
        "\n",
        "    # Print the extracted data\n",
        "    print(f\"Team: {team}, Wins: {wins}, Draws: {draws}, Losses: {losses}\")"
      ],
      "metadata": {
        "id": "wRMMusOV8kXN"
      },
      "execution_count": null,
      "outputs": []
    }
  ]
}