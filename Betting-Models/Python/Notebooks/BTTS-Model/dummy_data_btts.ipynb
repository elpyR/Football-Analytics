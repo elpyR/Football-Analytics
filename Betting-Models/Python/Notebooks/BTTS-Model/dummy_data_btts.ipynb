{
  "nbformat": 4,
  "nbformat_minor": 0,
  "metadata": {
    "colab": {
      "provenance": []
    },
    "kernelspec": {
      "name": "python3",
      "display_name": "Python 3"
    },
    "language_info": {
      "name": "python"
    }
  },
  "cells": [
    {
      "cell_type": "code",
      "execution_count": 1,
      "metadata": {
        "id": "Tl3vyL3chXDs"
      },
      "outputs": [],
      "source": [
        "import pandas as pd\n",
        "import numpy as np"
      ]
    },
    {
      "cell_type": "code",
      "source": [
        "# Teams\n",
        "teams = ['Team A', 'Team B', 'Team C', 'Team D', 'Team E', 'Team F', 'Team G', 'Team H', 'Team I', 'Team J',\n",
        "        'Team K', 'Team L', 'Team M', 'Team N', 'Team O', 'Team P', 'Team Q', 'Team R', 'Team S', 'Team T']"
      ],
      "metadata": {
        "id": "CuBW8C1kheqh"
      },
      "execution_count": 2,
      "outputs": []
    },
    {
      "cell_type": "code",
      "source": [
        "# Match Data\n",
        "date = np.random.choice(pd.date_range(start='2022-08-01', end='2023-05-01'), 38)\n",
        "home_team = np.random.choice(teams, 38)\n",
        "away_team = np.random.choice([team for team in teams if team not in home_team], 38)\n",
        "home_goals = np.random.randint(0, 5, 38)\n",
        "away_goals = np.random.randint(0, 5, 38)\n",
        "btts = np.random.choice([0, 1], 38, p=[0.6, 0.4])"
      ],
      "metadata": {
        "id": "bIlqpindhhSr"
      },
      "execution_count": 3,
      "outputs": []
    },
    {
      "cell_type": "code",
      "source": [
        "# Create Dataframe\n",
        "match_data = {'Date': date, 'Home Team': home_team, 'Away Team': away_team, 'Home Goals': home_goals, 'Away Goals': away_goals, 'BTTS': btts}\n",
        "df = pd.DataFrame(match_data)"
      ],
      "metadata": {
        "id": "6UYhCKMJhjRf"
      },
      "execution_count": 4,
      "outputs": []
    },
    {
      "cell_type": "code",
      "source": [
        "# Preview Data\n",
        "print(df.head(5))"
      ],
      "metadata": {
        "colab": {
          "base_uri": "https://localhost:8080/"
        },
        "id": "cR8xQel8hmEN",
        "outputId": "391365ee-42dd-4beb-cfb2-bf12901e967e"
      },
      "execution_count": 5,
      "outputs": [
        {
          "output_type": "stream",
          "name": "stdout",
          "text": [
            "        Date Home Team Away Team  Home Goals  Away Goals  BTTS\n",
            "0 2022-11-28    Team I    Team P           0           2     1\n",
            "1 2022-10-17    Team L    Team P           1           3     0\n",
            "2 2023-04-15    Team A    Team P           3           2     0\n",
            "3 2022-08-19    Team G    Team F           1           1     0\n",
            "4 2023-02-13    Team D    Team F           1           3     0\n"
          ]
        }
      ]
    },
    {
      "cell_type": "code",
      "source": [
        "from google.colab import drive\n",
        "drive.mount('/content/gdrive')"
      ],
      "metadata": {
        "colab": {
          "base_uri": "https://localhost:8080/"
        },
        "id": "NEXjuuqbifQo",
        "outputId": "5e13a07b-b443-4953-9bdb-705ca2bc14e7"
      },
      "execution_count": 6,
      "outputs": [
        {
          "output_type": "stream",
          "name": "stdout",
          "text": [
            "Mounted at /content/gdrive\n"
          ]
        }
      ]
    },
    {
      "cell_type": "code",
      "source": [
        "df.to_csv('/content/gdrive/My Drive/Colab Notebooks/Football_Betting_Models/dummy_match_data.csv')"
      ],
      "metadata": {
        "id": "tcorscn3ibhE"
      },
      "execution_count": 7,
      "outputs": []
    }
  ]
}